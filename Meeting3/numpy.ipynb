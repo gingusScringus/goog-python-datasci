{
 "cells": [
  {
   "cell_type": "code",
   "execution_count": 51,
   "id": "da4a7b8b",
   "metadata": {},
   "outputs": [],
   "source": [
    "import numpy as np"
   ]
  },
  {
   "cell_type": "code",
   "execution_count": 52,
   "id": "18860a82",
   "metadata": {},
   "outputs": [
    {
     "name": "stdout",
     "output_type": "stream",
     "text": [
      "1D Array: [1 2 3]\n"
     ]
    }
   ],
   "source": [
    "# Array 1D\n",
    "arr1 = np.array([1, 2, 3])\n",
    "print(\"1D Array:\", arr1)"
   ]
  },
  {
   "cell_type": "code",
   "execution_count": 53,
   "id": "115d2381",
   "metadata": {},
   "outputs": [
    {
     "name": "stdout",
     "output_type": "stream",
     "text": [
      "2D Array:\n",
      " [[1 2]\n",
      " [3 4]]\n"
     ]
    }
   ],
   "source": [
    "# Array 2D\n",
    "arr2 = np.array([[1,2], [3,4]])\n",
    "print(\"2D Array:\\n\", arr2)"
   ]
  },
  {
   "cell_type": "code",
   "execution_count": 54,
   "id": "688ef50d",
   "metadata": {},
   "outputs": [
    {
     "name": "stdout",
     "output_type": "stream",
     "text": [
      "3D Array:\n",
      " [[[1 2]\n",
      "  [3 4]]\n",
      "\n",
      " [[5 6]\n",
      "  [7 8]]]\n"
     ]
    }
   ],
   "source": [
    "# Array 3D\n",
    "arr3 = np.array([[[1, 2], [3, 4]], [[5, 6], [7, 8]]])\n",
    "print(\"3D Array:\\n\", arr3)"
   ]
  },
  {
   "cell_type": "code",
   "execution_count": 55,
   "id": "6a9a5876",
   "metadata": {},
   "outputs": [
    {
     "name": "stdout",
     "output_type": "stream",
     "text": [
      "Array of zeros:\n",
      " [[0. 0. 0.]\n",
      " [0. 0. 0.]]\n",
      "Array of ones:\n",
      " [[1. 1.]\n",
      " [1. 1.]\n",
      " [1. 1.]]\n",
      "Array with range:\n",
      " [0 2 4 6 8]\n",
      "Array with linspace:\n",
      " [0.   0.25 0.5  0.75 1.  ]\n"
     ]
    }
   ],
   "source": [
    "# Membuat array dengan fungsi built-in\n",
    "zeros = np.zeros((2, 3))\n",
    "print(\"Array of zeros:\\n\", zeros)\n",
    "\n",
    "ones = np.ones((3, 2))\n",
    "print(\"Array of ones:\\n\", ones)\n",
    "\n",
    "range_array = np.arange(0, 10, 2)\n",
    "print(\"Array with range:\\n\", range_array)\n",
    "\n",
    "linspace_array = np.linspace(0, 1, 5)\n",
    "print(\"Array with linspace:\\n\", linspace_array)"
   ]
  },
  {
   "cell_type": "code",
   "execution_count": 56,
   "id": "58d84baf",
   "metadata": {},
   "outputs": [
    {
     "name": "stdout",
     "output_type": "stream",
     "text": [
      "Penjumlahan: [11 22 33]\n",
      "Pengurangan: [ 9 18 27]\n",
      "Perkalian: [10 40 90]\n",
      "Pembagian: [10. 10. 10.]\n"
     ]
    }
   ],
   "source": [
    "a = np.array([10,20,30])\n",
    "b = np.array([1,2,3])\n",
    "\n",
    "print(\"Penjumlahan:\", a + b)\n",
    "print(\"Pengurangan:\", a - b)\n",
    "\n",
    "print(\"Perkalian:\", a * b)\n",
    "print(\"Pembagian:\", a / b)"
   ]
  },
  {
   "cell_type": "code",
   "execution_count": 57,
   "id": "db40bb4c",
   "metadata": {},
   "outputs": [
    {
     "name": "stdout",
     "output_type": "stream",
     "text": [
      "elemen pertama: 10\n",
      "irisan elemen ke-1 hingga ke-2: [20 30]\n"
     ]
    }
   ],
   "source": [
    "print(\"elemen pertama:\", a[0])\n",
    "print(\"irisan elemen ke-1 hingga ke-2:\", a[1:3])"
   ]
  },
  {
   "cell_type": "code",
   "execution_count": 58,
   "id": "84139a62",
   "metadata": {},
   "outputs": [
    {
     "name": "stdout",
     "output_type": "stream",
     "text": [
      "Reshape ke (2,3):\n",
      " [[1 2 3]\n",
      " [4 5 6]]\n"
     ]
    }
   ],
   "source": [
    "# Reshape\n",
    "c = np.array([1, 2, 3, 4, 5, 6])\n",
    "print(\"Reshape ke (2,3):\\n\", c.reshape(2, 3))"
   ]
  },
  {
   "cell_type": "code",
   "execution_count": 59,
   "id": "304ced56",
   "metadata": {},
   "outputs": [
    {
     "name": "stdout",
     "output_type": "stream",
     "text": [
      "Hasil Broadcasting:\n",
      " [[11 21 31]\n",
      " [12 22 32]\n",
      " [13 23 33]]\n"
     ]
    }
   ],
   "source": [
    "# Broadcasting\n",
    "d = np.array([[1], [2], [3]])\n",
    "e = np.array([10, 20, 30])\n",
    "print(\"Hasil Broadcasting:\\n\", d + e)"
   ]
  },
  {
   "cell_type": "code",
   "execution_count": 62,
   "id": "1805cd6e",
   "metadata": {},
   "outputs": [
    {
     "name": "stdout",
     "output_type": "stream",
     "text": [
      "Hasil Perkalian Matriks:\n",
      " [[19 22]\n",
      " [43 50]]\n",
      "Transpose Matriks:\n",
      " [[1 3]\n",
      " [2 4]]\n",
      "Determinan Matriks:\n",
      " -2.0000000000000004\n"
     ]
    }
   ],
   "source": [
    "# Operasi matriks\n",
    "mat1 = np.array([[1, 2], [3, 4]])\n",
    "mat2 = np.array([[5, 6], [7, 8]])\n",
    "\n",
    "print(\"Hasil Perkalian Matriks:\\n\", np.dot(mat1, mat2))\n",
    "print(\"Transpose Matriks:\\n\", mat1.T)\n",
    "print(\"Determinan Matriks:\\n\", np.linalg.det(mat1))"
   ]
  }
 ],
 "metadata": {
  "kernelspec": {
   "display_name": "base",
   "language": "python",
   "name": "python3"
  },
  "language_info": {
   "codemirror_mode": {
    "name": "ipython",
    "version": 3
   },
   "file_extension": ".py",
   "mimetype": "text/x-python",
   "name": "python",
   "nbconvert_exporter": "python",
   "pygments_lexer": "ipython3",
   "version": "3.13.5"
  }
 },
 "nbformat": 4,
 "nbformat_minor": 5
}
