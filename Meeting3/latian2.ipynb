{
 "cells": [
  {
   "cell_type": "code",
   "execution_count": 1,
   "id": "9a8d1b82",
   "metadata": {},
   "outputs": [
    {
     "name": "stdout",
     "output_type": "stream",
     "text": [
      "Array 1 sampai 10: [ 1  2  3  4  5  6  7  8  9 10]\n",
      "Elemen ke-5: 5\n"
     ]
    }
   ],
   "source": [
    "import numpy as np\n",
    "\n",
    "atuampepuluh = np.arange(1, 11)\n",
    "print(\"Array 1 sampai 10:\", atuampepuluh)\n",
    "print(\"Elemen ke-5:\", atuampepuluh[4])"
   ]
  },
  {
   "cell_type": "code",
   "execution_count": 11,
   "id": "484830dd",
   "metadata": {},
   "outputs": [
    {
     "name": "stdout",
     "output_type": "stream",
     "text": [
      "Array 1 sampai 50 dengan step 10: [ 1 11 21 31 41]\n",
      "Rata-rata: 21.0\n"
     ]
    }
   ],
   "source": [
    "araypuluh = np.arange(1, 51, 10)\n",
    "print(\"Array 1 sampai 50 dengan step 10:\", araypuluh)\n",
    "print(\"Rata-rata:\", np.mean(araypuluh))"
   ]
  },
  {
   "cell_type": "code",
   "execution_count": null,
   "id": "ad5b8af7",
   "metadata": {},
   "outputs": [
    {
     "name": "stdout",
     "output_type": "stream",
     "text": [
      "Array 3x3 dengan baris kedua diisi 5:\n",
      " [[0. 0. 0.]\n",
      " [5. 5. 5.]\n",
      " [0. 0. 0.]]\n"
     ]
    }
   ],
   "source": [
    "raykosong = np.zeros((3, 3), type=int)\n",
    "\n",
    "raykosong[1] = np.array([5, 5, 5])\n",
    "print(\"Array 3x3 dengan baris kedua diisi 5:\\n\", raykosong)"
   ]
  },
  {
   "cell_type": "code",
   "execution_count": 12,
   "id": "4b3e0f97",
   "metadata": {},
   "outputs": [
    {
     "name": "stdout",
     "output_type": "stream",
     "text": [
      "Array 4x4:\n",
      " [[ 0  1  2  3]\n",
      " [ 4  5  6  7]\n",
      " [ 8  9 10 11]\n",
      " [12 13 14 15]]\n",
      "Diambil kolom ketiga jadinya:  [ 2  6 10 14]\n",
      "Ditebalikin:  [ 3  7 11 15]\n"
     ]
    }
   ],
   "source": [
    "a = np.arange(0, 16).reshape(4, 4)\n",
    "\n",
    "print(\"Array 4x4:\\n\", a)\n",
    "adiambil3 = np.delete(a, 2, axis=1) \n",
    "print(\"Diambil kolom ketiga jadinya: \", a[:, 2])\n",
    "print(\"Ditebalikin: \", a[::, -1])"
   ]
  },
  {
   "cell_type": "code",
   "execution_count": 5,
   "id": "0a409818",
   "metadata": {},
   "outputs": [
    {
     "name": "stdout",
     "output_type": "stream",
     "text": [
      "Dot product dari x dan y: 96\n",
      "Jumlah dan rata-rata dari hasil perkalian x dan y:\n",
      " x:  96 \n",
      " y: 19.2\n"
     ]
    }
   ],
   "source": [
    "x = np.random.randint(0,10,5)\n",
    "y = np.random.randint(0,10,5)\n",
    "\n",
    "print(\"Dot product dari x dan y:\", np.dot(x, y))\n",
    "print(\"Jumlah dan rata-rata dari hasil perkalian x dan y:\\n\", \"x: \", np.sum(np.multiply(x, y)), \"\\n y:\", np.mean(np.multiply(x, y)))"
   ]
  }
 ],
 "metadata": {
  "kernelspec": {
   "display_name": "base",
   "language": "python",
   "name": "python3"
  },
  "language_info": {
   "codemirror_mode": {
    "name": "ipython",
    "version": 3
   },
   "file_extension": ".py",
   "mimetype": "text/x-python",
   "name": "python",
   "nbconvert_exporter": "python",
   "pygments_lexer": "ipython3",
   "version": "3.13.5"
  }
 },
 "nbformat": 4,
 "nbformat_minor": 5
}
