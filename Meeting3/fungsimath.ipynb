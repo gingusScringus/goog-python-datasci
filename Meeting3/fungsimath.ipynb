{
 "cells": [
  {
   "cell_type": "code",
   "execution_count": 5,
   "id": "7df2a796",
   "metadata": {},
   "outputs": [
    {
     "name": "stdout",
     "output_type": "stream",
     "text": [
      "Akar kuadrat: [1. 2. 3. 4.]\n",
      "Eksponen: [2.71828183e+00 5.45981500e+01 8.10308393e+03 8.88611052e+06]\n",
      "Logaritma natural: [0.         1.38629436 2.19722458 2.77258872]\n"
     ]
    }
   ],
   "source": [
    "import numpy as np\n",
    "\n",
    "angka = np.array([1, 4, 9, 16])\n",
    "print(\"Akar kuadrat:\", np.sqrt(angka))\n",
    "print(\"Eksponen:\", np.exp(angka))\n",
    "print(\"Logaritma natural:\", np.log(angka))"
   ]
  },
  {
   "cell_type": "code",
   "execution_count": 6,
   "id": "213ef9ae",
   "metadata": {},
   "outputs": [
    {
     "name": "stdout",
     "output_type": "stream",
     "text": [
      "Mean: 5.0\n",
      "Median: 5.0\n",
      "Standar Deviasi: 2.581988897471611\n",
      "Variansi: 6.666666666666667\n"
     ]
    }
   ],
   "source": [
    "data = np.array([[1, 2, 3], [4, 5, 6], [7, 8, 9]])\n",
    "\n",
    "print(\"Mean:\", np.mean(data))\n",
    "print(\"Median:\", np.median(data))\n",
    "print(\"Standar Deviasi:\", np.std(data))\n",
    "print(\"Variansi:\", np.var(data))"
   ]
  },
  {
   "cell_type": "code",
   "execution_count": 7,
   "id": "0715c8fb",
   "metadata": {},
   "outputs": [
    {
     "name": "stdout",
     "output_type": "stream",
     "text": [
      "Rata-rata per kolom: [2.5 3.5 4.5]\n",
      "Rata-rata per baris: [2. 5.]\n"
     ]
    }
   ],
   "source": [
    "matrix = np.array([[1, 2, 3], [4, 5, 6]])\n",
    "print(\"Rata-rata per kolom:\", np.mean(matrix, axis=0))\n",
    "print(\"Rata-rata per baris:\", np.mean(matrix, axis=1))\n"
   ]
  },
  {
   "cell_type": "code",
   "execution_count": 8,
   "id": "eeaf0191",
   "metadata": {},
   "outputs": [
    {
     "name": "stdout",
     "output_type": "stream",
     "text": [
      "Akar kuadrat: [1.         1.41421356 1.73205081 2.         2.23606798 2.44948974]\n",
      "Pangkat dua: [ 1  4  9 16 25 36]\n",
      "Logaritma natural: [0.         0.69314718 1.09861229 1.38629436 1.60943791 1.79175947]\n",
      "Rata-rata: 3.5\n",
      "Median: 3.5\n",
      "Standar deviasi: 1.707825127659933\n",
      "Nilai maksimum: 6\n",
      "Index nilai maximum: 5\n"
     ]
    }
   ],
   "source": [
    "x = np.array([1, 2, 3, 4, 5, 6])\n",
    "\n",
    "print(\"Akar kuadrat:\", np.sqrt(x))\n",
    "print(\"Pangkat dua:\", np.square(x))\n",
    "print(\"Logaritma natural:\", np.log(x))\n",
    "\n",
    "print(\"Rata-rata:\", np.mean(x))\n",
    "print(\"Median:\", np.median(x))\n",
    "print(\"Standar deviasi:\", np.std(x))\n",
    "print(\"Nilai maksimum:\", np.max(x))\n",
    "print(\"Index nilai maximum:\", np.argmax(x))"
   ]
  },
  {
   "cell_type": "code",
   "execution_count": 9,
   "id": "43329388",
   "metadata": {},
   "outputs": [
    {
     "name": "stdout",
     "output_type": "stream",
     "text": [
      "Rata-rata suhu: 32.142857142857146\n",
      "Suhu tertinggi: 36\n",
      "Suhu terendah: 28\n",
      "Hari dengan suhu > 32C: [35 36 33]\n"
     ]
    }
   ],
   "source": [
    "suhu = np.array([30, 32, 31, 28, 35, 36, 33])\n",
    "\n",
    "print(\"Rata-rata suhu:\", np.mean(suhu))\n",
    "print(\"Suhu tertinggi:\", np.max(suhu))\n",
    "print(\"Suhu terendah:\", np.min(suhu))\n",
    "print(\"Hari dengan suhu > 32C:\", suhu[suhu > 32])"
   ]
  }
 ],
 "metadata": {
  "kernelspec": {
   "display_name": "base",
   "language": "python",
   "name": "python3"
  },
  "language_info": {
   "codemirror_mode": {
    "name": "ipython",
    "version": 3
   },
   "file_extension": ".py",
   "mimetype": "text/x-python",
   "name": "python",
   "nbconvert_exporter": "python",
   "pygments_lexer": "ipython3",
   "version": "3.13.5"
  }
 },
 "nbformat": 4,
 "nbformat_minor": 5
}
