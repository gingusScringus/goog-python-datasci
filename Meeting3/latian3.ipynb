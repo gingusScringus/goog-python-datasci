{
 "cells": [
  {
   "cell_type": "code",
   "execution_count": 1,
   "id": "11471458",
   "metadata": {},
   "outputs": [
    {
     "name": "stdout",
     "output_type": "stream",
     "text": [
      "Sinus dari x: [0.00000000e+00 7.07106781e-01 1.00000000e+00 7.07106781e-01\n",
      " 1.22464680e-16]\n",
      "Kosinus dari x: [ 1.00000000e+00  7.07106781e-01  6.12323400e-17 -7.07106781e-01\n",
      " -1.00000000e+00]\n"
     ]
    }
   ],
   "source": [
    "import numpy as np\n",
    "\n",
    "x = np.array([0, np.pi/4, np.pi/2, 3*np.pi/4, np.pi])\n",
    "\n",
    "print(\"Sinus dari x:\", np.sin(x))\n",
    "print(\"Kosinus dari x:\", np.cos(x))"
   ]
  },
  {
   "cell_type": "code",
   "execution_count": 2,
   "id": "a64165c5",
   "metadata": {},
   "outputs": [
    {
     "name": "stdout",
     "output_type": "stream",
     "text": [
      "Min:  60\n",
      "Max:  95\n",
      "Median:  82.0\n",
      "Kuartil pertama:  75.0\n",
      "Kuartil ketiga:  88.0\n"
     ]
    }
   ],
   "source": [
    "skor_mahasiswa = np.array([75, 88, 95, 60, 82])\n",
    "\n",
    "print(\"Min: \", np.min(skor_mahasiswa))\n",
    "print(\"Max: \", np.max(skor_mahasiswa))\n",
    "print(\"Median: \", np.median(skor_mahasiswa))\n",
    "print(\"Kuartil pertama: \", np.percentile(skor_mahasiswa, 25))\n",
    "print(\"Kuartil ketiga: \", np.percentile(skor_mahasiswa, 75))"
   ]
  },
  {
   "cell_type": "code",
   "execution_count": 3,
   "id": "734e44a5",
   "metadata": {},
   "outputs": [
    {
     "name": "stdout",
     "output_type": "stream",
     "text": [
      "Z-scores 'data': [-1.66898632 -0.41724658  0.16689863  0.66759453  1.25173974]\n"
     ]
    }
   ],
   "source": [
    "def standardize(arr):\n",
    "    mean = np.mean(arr)\n",
    "    std_dev = np.std(arr)\n",
    "    z_scores = (arr - mean) / std_dev\n",
    "    return z_scores\n",
    "\n",
    "data = np.array([60, 75, 82, 88, 95])\n",
    "print(\"Z-scores 'data':\", standardize(data))"
   ]
  }
 ],
 "metadata": {
  "kernelspec": {
   "display_name": "base",
   "language": "python",
   "name": "python3"
  },
  "language_info": {
   "codemirror_mode": {
    "name": "ipython",
    "version": 3
   },
   "file_extension": ".py",
   "mimetype": "text/x-python",
   "name": "python",
   "nbconvert_exporter": "python",
   "pygments_lexer": "ipython3",
   "version": "3.13.5"
  }
 },
 "nbformat": 4,
 "nbformat_minor": 5
}
