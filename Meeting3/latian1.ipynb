{
 "cells": [
  {
   "cell_type": "code",
   "execution_count": 1,
   "id": "3ae202d6",
   "metadata": {},
   "outputs": [
    {
     "name": "stdout",
     "output_type": "stream",
     "text": [
      "Array: [ 1  3  5  7  9 11 13 15]\n"
     ]
    }
   ],
   "source": [
    "import numpy as np\n",
    "\n",
    "#ganjal = np.array([1, 3, 5, 7, 9, 11, 13, 15])\n",
    "ganjal = np.arange(1, 16, 2)  # Generates an array of odd numbers from 1 to 15\n",
    "print(\"Array:\", ganjal)"
   ]
  },
  {
   "cell_type": "code",
   "execution_count": 2,
   "id": "1f446119",
   "metadata": {},
   "outputs": [
    {
     "name": "stdout",
     "output_type": "stream",
     "text": [
      "Array Berlima: [ 5 10 15 20 25]\n",
      "Rata-rata: 15.0\n"
     ]
    }
   ],
   "source": [
    "berlima = np.array([5, 10, 15, 20, 25])\n",
    "print(\"Array Berlima:\", berlima)\n",
    "print(\"Rata-rata:\", np.mean(berlima))"
   ]
  },
  {
   "cell_type": "code",
   "execution_count": 3,
   "id": "8cb126d3",
   "metadata": {},
   "outputs": [
    {
     "name": "stdout",
     "output_type": "stream",
     "text": [
      "gepenk: [1 2 3 4]\n"
     ]
    }
   ],
   "source": [
    "atuampeempat = np.array([[1,2], [3,4]])\n",
    "print(\"gepenk:\", atuampeempat.flatten())"
   ]
  },
  {
   "cell_type": "code",
   "execution_count": 4,
   "id": "153728f5",
   "metadata": {},
   "outputs": [
    {
     "name": "stdout",
     "output_type": "stream",
     "text": [
      "matriks 3x3:\n",
      " [[1 2 3]\n",
      " [4 5 6]\n",
      " [7 8 9]]\n",
      "transpose:\n",
      " [[1 4 7]\n",
      " [2 5 8]\n",
      " [3 6 9]]\n"
     ]
    }
   ],
   "source": [
    "#arraytiga = np.array([[1, 2, 3], [4, 5, 6], [7, 8, 9]])\n",
    "\n",
    "arraytiga = np.arange(1, 10).reshape(3, 3)\n",
    "print(\"matriks 3x3:\\n\", arraytiga)\n",
    "print(\"transpose:\\n\", arraytiga.T)"
   ]
  },
  {
   "cell_type": "code",
   "execution_count": 5,
   "id": "cf18ec4b",
   "metadata": {},
   "outputs": [
    {
     "name": "stdout",
     "output_type": "stream",
     "text": [
      "Array Genap: [ 2  4  6  8 10]\n",
      "Varian: 8.0\n",
      "Deviasi Standar: 2.8284271247461903\n"
     ]
    }
   ],
   "source": [
    "genat = np.array([2, 4, 6, 8, 10])\n",
    "\n",
    "print(\"Array Genap:\", genat)\n",
    "print(\"Varian:\", np.var(genat))\n",
    "print(\"Deviasi Standar:\", np.std(genat))"
   ]
  },
  {
   "cell_type": "code",
   "execution_count": 6,
   "id": "d38aa8a9",
   "metadata": {},
   "outputs": [
    {
     "name": "stdout",
     "output_type": "stream",
     "text": [
      "jadi dua dimensi:\n",
      " [[1 4]\n",
      " [2 5]\n",
      " [3 6]]\n"
     ]
    }
   ],
   "source": [
    "aray1 = np.array([1, 2, 3])\n",
    "aray2 = np.array([4, 5, 6])\n",
    "duadimensi = np.stack((aray1, aray2,), axis=1) \n",
    "print(\"jadi dua dimensi:\\n\", duadimensi)"
   ]
  }
 ],
 "metadata": {
  "kernelspec": {
   "display_name": "base",
   "language": "python",
   "name": "python3"
  },
  "language_info": {
   "codemirror_mode": {
    "name": "ipython",
    "version": 3
   },
   "file_extension": ".py",
   "mimetype": "text/x-python",
   "name": "python",
   "nbconvert_exporter": "python",
   "pygments_lexer": "ipython3",
   "version": "3.13.5"
  }
 },
 "nbformat": 4,
 "nbformat_minor": 5
}
