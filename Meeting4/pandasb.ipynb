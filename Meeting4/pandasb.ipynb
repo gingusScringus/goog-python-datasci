{
 "cells": [
  {
   "cell_type": "code",
   "execution_count": null,
   "id": "64c0efbc",
   "metadata": {},
   "outputs": [],
   "source": [
    "import pandas as pd\n",
    "\n",
    "df = pd.read_excel('data.xlsx')\n",
    "print(df)"
   ]
  },
  {
   "cell_type": "code",
   "execution_count": 4,
   "id": "1c4fb6a7",
   "metadata": {},
   "outputs": [
    {
     "name": "stdout",
     "output_type": "stream",
     "text": [
      "   Nama  Nilai\n",
      "0  Budi     80\n",
      "1  Siti     90\n",
      "2  Andi     75\n"
     ]
    }
   ],
   "source": [
    "data = {\n",
    "    'Nama': ['Budi', 'Siti', 'Andi'],\n",
    "    'Nilai': [80, 90, 75]\n",
    "}\n",
    "df = pd.DataFrame(data)\n",
    "print(df)"
   ]
  },
  {
   "cell_type": "code",
   "execution_count": 3,
   "id": "05285a88",
   "metadata": {},
   "outputs": [
    {
     "name": "stdout",
     "output_type": "stream",
     "text": [
      "   Nama  Nilai\n",
      "0  Budi   80.0\n",
      "1  None   90.0\n",
      "2  Andi    NaN\n"
     ]
    }
   ],
   "source": [
    "data = {\n",
    "'Nama': ['Budi', None, 'Andi'],\n",
    "'Nilai': [80, 90, None]\n",
    "}\n",
    "df = pd.DataFrame(data)\n",
    "print(df)"
   ]
  },
  {
   "cell_type": "code",
   "execution_count": null,
   "id": "e92ca028",
   "metadata": {},
   "outputs": [],
   "source": [
    "df_clean = df.dropna()\n",
    "print(df_clean)"
   ]
  },
  {
   "cell_type": "code",
   "execution_count": null,
   "id": "adc6a05d",
   "metadata": {},
   "outputs": [],
   "source": [
    "df_fill = df.fillna(0)\n",
    "print(df_fill)"
   ]
  },
  {
   "cell_type": "code",
   "execution_count": null,
   "id": "a27c616e",
   "metadata": {},
   "outputs": [],
   "source": [
    "df['Nilai'] = pd.to_numeric(df['Nilai'], errors='coerce')\n",
    "print(df)"
   ]
  },
  {
   "cell_type": "code",
   "execution_count": null,
   "id": "b0c56b2b",
   "metadata": {},
   "outputs": [],
   "source": [
    "df['Nilai'] = pd.to_numeric(df['Nilai'], errors='coerce')\n",
    "print(df)"
   ]
  },
  {
   "cell_type": "code",
   "execution_count": null,
   "id": "39b06496",
   "metadata": {},
   "outputs": [
    {
     "name": "stdout",
     "output_type": "stream",
     "text": [
      "Kelas\n",
      "7A    85.0\n",
      "7B    80.0\n",
      "Name: Nilai, dtype: float64\n"
     ]
    }
   ],
   "source": [
    "data = {\n",
    "'Kelas': ['7A', '7A', '7B', '7B'],\n",
    "'Nama': ['Budi', 'Siti', 'Andi',\n",
    "'Rina'],\n",
    "'Nilai': [80, 90, 75, 85]\n",
    "}\n",
    "df = pd.DataFrame(data)\n",
    "grouped = df.groupby('Kelas')['Nilai'].mean()\n",
    "print(grouped)"
   ]
  },
  {
   "cell_type": "code",
   "execution_count": 2,
   "id": "f3c29cf4",
   "metadata": {},
   "outputs": [
    {
     "name": "stdout",
     "output_type": "stream",
     "text": [
      "   Nama  Nilai\n",
      "0  Budi     80\n",
      "1  Siti     90\n",
      "0  Andi     75\n",
      "1  Rina     85\n"
     ]
    }
   ],
   "source": [
    "data1 = {\n",
    "    'Nama': ['Budi', 'Siti'], \n",
    "    'Nilai': [80, 90]\n",
    "    }\n",
    "data2 = {\n",
    "    'Nama': ['Andi', 'Rina'], \n",
    "    'Nilai': [75, 85]\n",
    "    }\n",
    "df1 = pd.DataFrame(data1)\n",
    "df2 = pd.DataFrame(data2)\n",
    "\n",
    "gabung = pd.concat([df1, df2])\n",
    "print(gabung)"
   ]
  },
  {
   "cell_type": "code",
   "execution_count": null,
   "id": "9225398b",
   "metadata": {},
   "outputs": [],
   "source": [
    "siswa = {'Nama': ['Budi', 'Siti'],\n",
    "'Kelas': ['7A', '7B']}\n",
    "nilai = {'Nama': ['Budi', 'Siti'],\n",
    "'Nilai': [80, 90]}\n",
    "\n",
    "df_siswa = pd.DataFrame(siswa)\n",
    "df_nilai = pd.DataFrame(nilai)\n",
    "\n",
    "merge = pd.merge(df_siswa, df_nilai, on='Nama')\n",
    "print(merge)"
   ]
  }
 ],
 "metadata": {
  "kernelspec": {
   "display_name": "base",
   "language": "python",
   "name": "python3"
  },
  "language_info": {
   "codemirror_mode": {
    "name": "ipython",
    "version": 3
   },
   "file_extension": ".py",
   "mimetype": "text/x-python",
   "name": "python",
   "nbconvert_exporter": "python",
   "pygments_lexer": "ipython3",
   "version": "3.13.5"
  }
 },
 "nbformat": 4,
 "nbformat_minor": 5
}
