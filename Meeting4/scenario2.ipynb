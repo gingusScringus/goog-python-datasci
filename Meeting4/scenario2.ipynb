{
 "cells": [
  {
   "cell_type": "code",
   "execution_count": null,
   "id": "fda38bf8",
   "metadata": {},
   "outputs": [
    {
     "name": "stdout",
     "output_type": "stream",
     "text": [
      "Nilai maks: 90\n",
      "Nilai min: 60\n",
      "Rata-rata nilai: 76.66666666666667\n"
     ]
    }
   ],
   "source": [
    "import numpy as np\n",
    "\n",
    "data = {\n",
    "    \"Nama\": [\"Adi\", \"Budi\", \"Cindy\", \"Dini\", \"Eko\", \"Fajar\"],\n",
    "    \"Nilai\": [70, 80, 90, 60, 85, 75],\n",
    "}\n",
    "\n",
    "print(\"Nilai maks:\", np.max(data[\"Nilai\"]))\n",
    "print(\"Nilai min:\", np.min(data[\"Nilai\"]))\n",
    "print(\"Rata-rata nilai:\", np.mean(data[\"Nilai\"]))"
   ]
  }
 ],
 "metadata": {
  "kernelspec": {
   "display_name": "base",
   "language": "python",
   "name": "python3"
  },
  "language_info": {
   "codemirror_mode": {
    "name": "ipython",
    "version": 3
   },
   "file_extension": ".py",
   "mimetype": "text/x-python",
   "name": "python",
   "nbconvert_exporter": "python",
   "pygments_lexer": "ipython3",
   "version": "3.13.5"
  }
 },
 "nbformat": 4,
 "nbformat_minor": 5
}
