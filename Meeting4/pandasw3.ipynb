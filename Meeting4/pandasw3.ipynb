{
 "cells": [
  {
   "cell_type": "code",
   "execution_count": null,
   "id": "942f23f0",
   "metadata": {},
   "outputs": [],
   "source": [
    "import pandas as pd\n",
    "\n",
    "df = pd.read_csv('data2.csv')\n",
    "\n",
    "print(\"Original DataFrame:\", \"\\n\", df.to_string())"
   ]
  },
  {
   "cell_type": "code",
   "execution_count": null,
   "id": "37f0e87f",
   "metadata": {},
   "outputs": [],
   "source": [
    "# Produces new dataframe without empty rows, original data is fine :D\n",
    "new_df = df.dropna()\n",
    "\n",
    "print(\"Remove empty rows (df.dropna):\", \"\\n\", new_df.to_string())"
   ]
  },
  {
   "cell_type": "code",
   "execution_count": null,
   "id": "75976d2e",
   "metadata": {},
   "outputs": [],
   "source": [
    "# Fill em.\n",
    "new_df.fillna()\n",
    "\n",
    "print(\"Fill empty rows (df.fillna ):\", \"\\n\", new_df.to_string())"
   ]
  },
  {
   "cell_type": "code",
   "execution_count": null,
   "id": "9bbcb861",
   "metadata": {},
   "outputs": [],
   "source": [
    "# NUCLEAR!!! will remove all rows with any NaN values to the original dataframe\n",
    "df.dropna(inplace = True)\n",
    "\n",
    "print(\"Remove empty rows (df.dropna WITH inplace = True):\", \"\\n\", df.to_string())"
   ]
  },
  {
   "cell_type": "code",
   "execution_count": null,
   "id": "d6bfb82f",
   "metadata": {},
   "outputs": [],
   "source": [
    "# Or fill it...\n",
    "df.fillna(130, inplace = True) \n",
    "\n",
    "print(\"Fill empty rows (df.fillna WITH inplace = True):\", \"\\n\", df.to_string())"
   ]
  }
 ],
 "metadata": {
  "kernelspec": {
   "display_name": "base",
   "language": "python",
   "name": "python3"
  },
  "language_info": {
   "codemirror_mode": {
    "name": "ipython",
    "version": 3
   },
   "file_extension": ".py",
   "mimetype": "text/x-python",
   "name": "python",
   "nbconvert_exporter": "python",
   "pygments_lexer": "ipython3",
   "version": "3.13.5"
  }
 },
 "nbformat": 4,
 "nbformat_minor": 5
}
