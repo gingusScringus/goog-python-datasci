{
 "cells": [
  {
   "cell_type": "code",
   "execution_count": null,
   "id": "53eccee5",
   "metadata": {},
   "outputs": [],
   "source": [
    "data = {\n",
    "    \"Bulan\": [\"Januari\", \"Februari\", \"Maret\", \"April\"],\n",
    "    \"Penjualan\": [150, 180, 120, 200]\n",
    "}\n"
   ]
  }
 ],
 "metadata": {
  "language_info": {
   "name": "python"
  }
 },
 "nbformat": 4,
 "nbformat_minor": 5
}
