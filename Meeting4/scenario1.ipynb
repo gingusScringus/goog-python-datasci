{
 "cells": [
  {
   "cell_type": "code",
   "execution_count": 16,
   "id": "48ae0e9f",
   "metadata": {},
   "outputs": [
    {
     "name": "stdout",
     "output_type": "stream",
     "text": [
      "Data Produk:\n",
      "      Hari Produk  Jumlah\n",
      "0   Senin      A      10\n",
      "1   Senin      B      15\n",
      "2  Selasa      A       7\n",
      "3    Rabu      B       8\n",
      "4   Kamis      A      12\n"
     ]
    }
   ],
   "source": [
    "import pandas as pd\n",
    "\n",
    "data = {\n",
    "    \"Hari\": [\"Senin\", \"Senin\", \"Selasa\", \"Rabu\", \"Kamis\"],\n",
    "    \"Produk\": [\"A\", \"B\", \"A\", \"B\", \"A\"],\n",
    "    \"Jumlah\": [10, 15, 7, 8, 12]\n",
    "}\n",
    "\n",
    "df = pd.DataFrame(data)\n",
    "\n",
    "print(\"Data Produk:\\n\", df.to_string())\n"
   ]
  },
  {
   "cell_type": "code",
   "execution_count": 17,
   "id": "198762f7",
   "metadata": {},
   "outputs": [
    {
     "name": "stdout",
     "output_type": "stream",
     "text": [
      "Total penjualan selama 5 hari: 52\n"
     ]
    }
   ],
   "source": [
    "print(\"Total penjualan selama 5 hari:\", df[\"Jumlah\"].sum())"
   ]
  },
  {
   "cell_type": "code",
   "execution_count": 18,
   "id": "6f4367bc",
   "metadata": {},
   "outputs": [],
   "source": [
    "# idk abt the last part..."
   ]
  }
 ],
 "metadata": {
  "kernelspec": {
   "display_name": "base",
   "language": "python",
   "name": "python3"
  },
  "language_info": {
   "codemirror_mode": {
    "name": "ipython",
    "version": 3
   },
   "file_extension": ".py",
   "mimetype": "text/x-python",
   "name": "python",
   "nbconvert_exporter": "python",
   "pygments_lexer": "ipython3",
   "version": "3.13.5"
  }
 },
 "nbformat": 4,
 "nbformat_minor": 5
}
