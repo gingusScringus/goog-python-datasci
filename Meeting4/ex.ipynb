{
 "cells": [
  {
   "cell_type": "code",
   "execution_count": null,
   "id": "f9d87961",
   "metadata": {},
   "outputs": [],
   "source": [
    "# List\n",
    "n1 = 25\n",
    "n2 = 30\n",
    "n3 = 35\n",
    "n4 = 40\n",
    "n5 = 45\n",
    "n6 = 50\n",
    "# SALAH!!!\n",
    "\n",
    "nilai = [25, 30, 35, 40, 45, 50]\n",
    "# Bedul"
   ]
  },
  {
   "cell_type": "code",
   "execution_count": null,
   "id": "ee1087aa",
   "metadata": {},
   "outputs": [],
   "source": [
    "# Dictionary\n",
    "data = {\n",
    "    \"Nama\": [\"Budi\", \"Ani\", \"Siti\", \"Joko\"],\n",
    "    \"Umur\": [13, 14, 13, 14],\n",
    "    \"Nilai\": [85, 90, 75, 80]\n",
    "    # format = key : value\n",
    "}"
   ]
  }
 ],
 "metadata": {
  "language_info": {
   "name": "python"
  }
 },
 "nbformat": 4,
 "nbformat_minor": 5
}
