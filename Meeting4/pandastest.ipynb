{
 "cells": [
  {
   "cell_type": "code",
   "execution_count": 6,
   "id": "fefd056a",
   "metadata": {},
   "outputs": [
    {
     "name": "stdout",
     "output_type": "stream",
     "text": [
      "2.2.3\n",
      "    cars  passings\n",
      "0    BMW       3.0\n",
      "1  Volvo       7.0\n",
      "2   Ford       NaN\n",
      "3   None       2.0\n",
      "0      BMW\n",
      "1    Volvo\n",
      "2     Ford\n",
      "3     None\n",
      "Name: cars, dtype: object\n",
      "0    3.0\n",
      "1    7.0\n",
      "2    NaN\n",
      "3    2.0\n",
      "Name: passings, dtype: float64\n"
     ]
    }
   ],
   "source": [
    "import pandas as pd\n",
    "\n",
    "print(pd.__version__) \n",
    "mydataset = {\n",
    "  'cars': [\"BMW\", \"Volvo\", \"Ford\", None],\n",
    "  'passings': [3, 7, None, 2]\n",
    "}\n",
    "\n",
    "df = pd.DataFrame(mydataset)\n",
    "\n",
    "print(df)\n",
    "print(df['cars'])\n",
    "print(df['passings'])"
   ]
  },
  {
   "cell_type": "code",
   "execution_count": 7,
   "id": "d99f6b1d",
   "metadata": {},
   "outputs": [
    {
     "name": "stdout",
     "output_type": "stream",
     "text": [
      "    cars  passings\n",
      "0    BMW       3.0\n",
      "1  Volvo       7.0\n"
     ]
    }
   ],
   "source": [
    "df_clean = df.dropna()\n",
    "print(df_clean)"
   ]
  }
 ],
 "metadata": {
  "kernelspec": {
   "display_name": "base",
   "language": "python",
   "name": "python3"
  },
  "language_info": {
   "codemirror_mode": {
    "name": "ipython",
    "version": 3
   },
   "file_extension": ".py",
   "mimetype": "text/x-python",
   "name": "python",
   "nbconvert_exporter": "python",
   "pygments_lexer": "ipython3",
   "version": "3.13.5"
  }
 },
 "nbformat": 4,
 "nbformat_minor": 5
}
