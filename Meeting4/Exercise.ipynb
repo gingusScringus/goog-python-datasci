{
 "cells": [
  {
   "cell_type": "code",
   "execution_count": 25,
   "id": "9c65bd73",
   "metadata": {},
   "outputs": [
    {
     "name": "stdout",
     "output_type": "stream",
     "text": [
      "DataFrame awal:\n",
      "    Nama  Umur  Nilai\n",
      "0  Budi    13     85\n",
      "1  Siti    14     90\n",
      "2  Andi    13     75\n",
      "3  Rina    14     80\n"
     ]
    }
   ],
   "source": [
    "import pandas as pd\n",
    "\n",
    "data = {\n",
    "    \"Nama\": [\"Budi\", \"Siti\", \"Andi\", \"Rina\"],\n",
    "    \"Umur\": [13, 14, 13, 14],\n",
    "    \"Nilai\": [85, 90, 75, 80]\n",
    "}\n",
    "df1 = pd.DataFrame(data)\n",
    "print(\"DataFrame awal:\\n\", df1.to_string())"
   ]
  },
  {
   "cell_type": "code",
   "execution_count": 26,
   "id": "f0693116",
   "metadata": {},
   "outputs": [
    {
     "name": "stdout",
     "output_type": "stream",
     "text": [
      "\n",
      "DataFrame dengan dihapus baris kosong:\n",
      "    Nama  Umur  Nilai\n",
      "0  Budi  13.0   85.0\n",
      "3  Rina  14.0   80.0\n"
     ]
    }
   ],
   "source": [
    "data = {\n",
    "    \"Nama\": [\"Budi\", \"Siti\", \"Andi\", \"Rina\"],\n",
    "    \"Umur\": [13, None, 13, 14],\n",
    "    \"Nilai\": [85, 90, None, 80]\n",
    "}\n",
    "\n",
    "df2 = pd.DataFrame(data)\n",
    "\n",
    "df_clean = df2.dropna()\n",
    "print(\"\\nDataFrame dengan dihapus baris kosong:\\n\", df_clean.to_string())"
   ]
  },
  {
   "cell_type": "code",
   "execution_count": 27,
   "id": "168de4b4",
   "metadata": {},
   "outputs": [
    {
     "name": "stdout",
     "output_type": "stream",
     "text": [
      "\n",
      "DataFrame dengan diisi nilai kosong:\n",
      "    Nama  Umur  Nilai\n",
      "0  Budi  13.0   85.0\n",
      "1  Siti   0.0   90.0\n",
      "2  Andi  13.0    0.0\n",
      "3  Rina  14.0   80.0\n"
     ]
    }
   ],
   "source": [
    "df_fillempty = df2.fillna(0)\n",
    "\n",
    "print(\"\\nDataFrame dengan diisi nilai kosong:\\n\", df_fillempty.to_string())"
   ]
  },
  {
   "cell_type": "code",
   "execution_count": 28,
   "id": "5ab9bfe5",
   "metadata": {},
   "outputs": [
    {
     "name": "stdout",
     "output_type": "stream",
     "text": [
      "\n",
      "Rata-rata Nilai berdasarkan Umur:\n",
      " Umur\n",
      "13    80.0\n",
      "14    85.0\n"
     ]
    }
   ],
   "source": [
    "df1_avg = df1['Umur'].mean()\n",
    "\n",
    "#print(df1.to_string())\n",
    "#print(\"\\nRata-rata umur:\", df1_avg)\n",
    "\n",
    "df_avgnilaiumur = df1.groupby('Umur')['Nilai'].mean()\n",
    "print(\"\\nRata-rata Nilai berdasarkan Umur:\\n\", df_avgnilaiumur.to_string())"
   ]
  },
  {
   "cell_type": "code",
   "execution_count": 29,
   "id": "c416a887",
   "metadata": {},
   "outputs": [
    {
     "name": "stdout",
     "output_type": "stream",
     "text": [
      "\n",
      "DataFrame gabungan:\n",
      "    Nama  Nilai\n",
      "0  Budi     85\n",
      "1  Siti     90\n",
      "2  Andi     75\n",
      "3  Rina     80\n"
     ]
    }
   ],
   "source": [
    "data1 = {\n",
    "    'Nama': ['Budi', 'Siti'],\n",
    "    'Nilai': [85, 90]\n",
    "}\n",
    "data2 = {\n",
    "    'Nama': ['Andi', 'Rina'],\n",
    "    'Nilai': [75, 80]\n",
    "}\n",
    "df1 = pd.DataFrame(data1)\n",
    "df2 = pd.DataFrame(data2)\n",
    "df_combined = pd.concat([df1, df2], ignore_index=True)\n",
    "print(\"\\nDataFrame gabungan:\\n\", df_combined.to_string())\n"
   ]
  }
 ],
 "metadata": {
  "kernelspec": {
   "display_name": "base",
   "language": "python",
   "name": "python3"
  },
  "language_info": {
   "codemirror_mode": {
    "name": "ipython",
    "version": 3
   },
   "file_extension": ".py",
   "mimetype": "text/x-python",
   "name": "python",
   "nbconvert_exporter": "python",
   "pygments_lexer": "ipython3",
   "version": "3.13.5"
  }
 },
 "nbformat": 4,
 "nbformat_minor": 5
}
