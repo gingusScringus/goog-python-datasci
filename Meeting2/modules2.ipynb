{
 "cells": [
  {
   "cell_type": "code",
   "execution_count": null,
   "id": "ab7450a1",
   "metadata": {},
   "outputs": [],
   "source": [
    "# buat directory package dan file file nya\n",
    "import os\n",
    "os.makedirs('MyPackage', exist_ok=True)\n",
    "\n",
    "# __init__.py (bisa dikosongkan)\n",
    "open('MyPackage/__init__.py', 'w').close()\n",
    "\n",
    "# utils.py\n",
    "with open('MyPackage/utils.py', 'w') as f:\n",
    "    f.write('''\n",
    "def fungsi_x():\n",
    "    print(\"Ini fungsi_x dari MyPackage.utils\")\n",
    "'''.lstrip())\n",
    "\n",
    "# math_ops.py\n",
    "with open('MyPackage/math_ops.py', 'w') as f:\n",
    "    f.write('''\n",
    "def fungsi_y():\n",
    "    return \"Ini fungsi_y dari MyPackage.math_ops\"\n",
    "'''.lstrip()) "
   ]
  }
 ],
 "metadata": {
  "kernelspec": {
   "display_name": "base",
   "language": "python",
   "name": "python3"
  },
  "language_info": {
   "name": "python",
   "version": "3.13.5"
  }
 },
 "nbformat": 4,
 "nbformat_minor": 5
}
