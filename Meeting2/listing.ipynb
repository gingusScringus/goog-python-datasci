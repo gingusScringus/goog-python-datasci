{
 "cells": [
  {
   "cell_type": "code",
   "execution_count": 1,
   "id": "aa269688",
   "metadata": {},
   "outputs": [
    {
     "name": "stdout",
     "output_type": "stream",
     "text": [
      "angka:  [1, 2, 3, 4, 5]\n",
      "buah:  ['apel', 'pisang', 'jeruk']\n"
     ]
    }
   ],
   "source": [
    "# 1. Membuat list\n",
    "angka = [1, 2, 3, 4, 5]\n",
    "buah = [\"apel\", \"pisang\", \"jeruk\"]\n",
    "print(\"angka: \", angka)\n",
    "print(\"buah: \", buah)"
   ]
  },
  {
   "cell_type": "code",
   "execution_count": 2,
   "id": "bfab706e",
   "metadata": {},
   "outputs": [
    {
     "name": "stdout",
     "output_type": "stream",
     "text": [
      "1\n",
      "jeruk\n",
      "[2, 3, 4]\n"
     ]
    }
   ],
   "source": [
    "# 2. Indexing dan slicing\n",
    "angka = [1, 2, 3, 4, 5]\n",
    "buah = [\"apel\", \"pisang\", \"jeruk\"]\n",
    "print(angka[0]) # 1\n",
    "print(buah[-1]) # \"jeruk\"\n",
    "print(angka[1:4]) # [2, 3, 4]"
   ]
  },
  {
   "cell_type": "code",
   "execution_count": 3,
   "id": "a5e453e3",
   "metadata": {},
   "outputs": [
    {
     "name": "stdout",
     "output_type": "stream",
     "text": [
      "[1, 2, 3, 4]\n",
      "['apel', 'mangga', 'pisang']\n"
     ]
    }
   ],
   "source": [
    "# 3. Menambahkan elemen\n",
    "angka = [1, 2, 3]\n",
    "buah = [\"apel\", \"pisang\"]\n",
    "angka.append(4)\n",
    "buah.insert(1, \"mangga\") # sisip di index 1\n",
    "print(angka) # [1, 2, 3, 4]\n",
    "print(buah) # [\"apel\", \"mangga\", \"pisang\"]"
   ]
  },
  {
   "cell_type": "code",
   "execution_count": 4,
   "id": "cfe0fcf7",
   "metadata": {},
   "outputs": [
    {
     "name": "stdout",
     "output_type": "stream",
     "text": [
      "sisa angka:  [1, 2] ; di pop:  4\n",
      "buah:  []\n"
     ]
    }
   ],
   "source": [
    "# 4. Menghapus elemen\n",
    "angka = [1, 2, 3, 4]\n",
    "buah = [\"apel\", \"pisang\", \"jeruk\"]\n",
    "angka.remove(3) # hapus nilai 3\n",
    "last = angka.pop() # hapus dan kembalikan elemen terakhir\n",
    "print(\"sisa angka: \", angka, \"; di pop: \", last)\n",
    "buah.clear() # hapus semua\n",
    "print(\"buah: \", buah)"
   ]
  },
  {
   "cell_type": "code",
   "execution_count": 5,
   "id": "601aba55",
   "metadata": {},
   "outputs": [
    {
     "name": "stdout",
     "output_type": "stream",
     "text": [
      "len:  3\n",
      "sum:  12\n",
      "count apel:  2\n"
     ]
    }
   ],
   "source": [
    "# 5. Operasi built-in\n",
    "angka = [2, 4, 6]\n",
    "buah = [\"apel\", \"apel\", \"jeruk\"]\n",
    "print(\"len: \", len(angka))\n",
    "print(\"sum: \", sum(angka))\n",
    "print(\"count apel: \", buah.count(\"apel\"))"
   ]
  },
  {
   "cell_type": "code",
   "execution_count": 6,
   "id": "d736df20",
   "metadata": {},
   "outputs": [
    {
     "name": "stdout",
     "output_type": "stream",
     "text": [
      "angka desc:  [4, 3, 2, 1]\n",
      "buah rev:  ['pisang', 'apel', 'jeruk']\n"
     ]
    }
   ],
   "source": [
    "# 6. Mengurutkan dan membalik\n",
    "angka = [3, 1, 4, 2]\n",
    "buah = [\"jeruk\", \"apel\", \"pisang\"]\n",
    "angka.sort(reverse=True)\n",
    "buah.reverse()\n",
    "print(\"angka desc: \", angka)\n",
    "print(\"buah rev: \", buah)"
   ]
  },
  {
   "cell_type": "code",
   "execution_count": 7,
   "id": "5ca7839e",
   "metadata": {},
   "outputs": [
    {
     "name": "stdout",
     "output_type": "stream",
     "text": [
      "[2, 4, 6, 8, 10, 12, 14, 16, 18, 20]\n"
     ]
    }
   ],
   "source": [
    "# List comprehension\n",
    "genap = [x for x in range(1, 21) if x % 2 == 0]\n",
    "print(genap)"
   ]
  }
 ],
 "metadata": {
  "kernelspec": {
   "display_name": "base",
   "language": "python",
   "name": "python3"
  },
  "language_info": {
   "codemirror_mode": {
    "name": "ipython",
    "version": 3
   },
   "file_extension": ".py",
   "mimetype": "text/x-python",
   "name": "python",
   "nbconvert_exporter": "python",
   "pygments_lexer": "ipython3",
   "version": "3.13.5"
  }
 },
 "nbformat": 4,
 "nbformat_minor": 5
}
