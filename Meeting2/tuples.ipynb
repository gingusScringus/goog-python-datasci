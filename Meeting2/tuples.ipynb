{
 "cells": [
  {
   "cell_type": "code",
   "execution_count": 9,
   "id": "e38654ac",
   "metadata": {},
   "outputs": [
    {
     "name": "stdout",
     "output_type": "stream",
     "text": [
      "(10, 20, 30) ()\n"
     ]
    }
   ],
   "source": [
    "# 1. Membuat tuple\n",
    "data = (10, 20, 30)\n",
    "kosong = ()\n",
    "print(data, kosong)"
   ]
  },
  {
   "cell_type": "code",
   "execution_count": 10,
   "id": "c5d5df4a",
   "metadata": {},
   "outputs": [
    {
     "name": "stdout",
     "output_type": "stream",
     "text": [
      "5 6 7\n"
     ]
    }
   ],
   "source": [
    "# 2. Unpacking\n",
    "data = (5, 6, 7)\n",
    "a, b, c = data\n",
    "print(a, b, c)"
   ]
  },
  {
   "cell_type": "code",
   "execution_count": 11,
   "id": "683393fd",
   "metadata": {},
   "outputs": [
    {
     "name": "stdout",
     "output_type": "stream",
     "text": [
      "3\n"
     ]
    }
   ],
   "source": [
    "# 3. Tuple bersarang\n",
    "t = (1, (2, 3), 4)\n",
    "print(t[1][1]) # 3"
   ]
  },
  {
   "cell_type": "code",
   "execution_count": 12,
   "id": "2835cbd8",
   "metadata": {},
   "outputs": [],
   "source": [
    "[16] # 4. Immutability\n",
    "data = (1, 2, 3)\n",
    "# data[0] = 99 # TypeError! "
   ]
  },
  {
   "cell_type": "code",
   "execution_count": 13,
   "id": "65b8bdf6",
   "metadata": {},
   "outputs": [
    {
     "name": "stdout",
     "output_type": "stream",
     "text": [
      "Point A\n"
     ]
    }
   ],
   "source": [
    "# 5. Tuple sebagai kunci dict\n",
    "jarak = {\n",
    "    (0, 0): \"Origin\",\n",
    "    (1, 2): \"Point A\"\n",
    "}\n",
    "print(jarak[(1, 2)])"
   ]
  }
 ],
 "metadata": {
  "kernelspec": {
   "display_name": "base",
   "language": "python",
   "name": "python3"
  },
  "language_info": {
   "codemirror_mode": {
    "name": "ipython",
    "version": 3
   },
   "file_extension": ".py",
   "mimetype": "text/x-python",
   "name": "python",
   "nbconvert_exporter": "python",
   "pygments_lexer": "ipython3",
   "version": "3.13.5"
  }
 },
 "nbformat": 4,
 "nbformat_minor": 5
}
