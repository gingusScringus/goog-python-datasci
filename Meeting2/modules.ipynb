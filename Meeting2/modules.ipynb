{
 "cells": [
  {
   "cell_type": "code",
   "execution_count": 1,
   "id": "f5a3e0ef",
   "metadata": {},
   "outputs": [
    {
     "name": "stdout",
     "output_type": "stream",
     "text": [
      "3.141592653589793 4.0\n"
     ]
    }
   ],
   "source": [
    "# 1. Mengimpor modul built-in\n",
    "import math\n",
    "print(math.pi, math.sqrt(16))"
   ]
  },
  {
   "cell_type": "code",
   "execution_count": 2,
   "id": "1d83c19e",
   "metadata": {},
   "outputs": [
    {
     "name": "stdout",
     "output_type": "stream",
     "text": [
      "2025-07-05 15:32:53.219198\n",
      "7 B\n"
     ]
    }
   ],
   "source": [
    "# 2. Alias dan subset import\n",
    "import datetime as dt\n",
    "from random import randint, choice\n",
    "\n",
    "print(dt.datetime.now())\n",
    "print(randint(1, 10), choice([\"A\", \"B\", \"C\"]))"
   ]
  },
  {
   "cell_type": "code",
   "execution_count": 3,
   "id": "0df5c145",
   "metadata": {},
   "outputs": [
    {
     "name": "stdout",
     "output_type": "stream",
     "text": [
      "helpers.py dibuat.\n"
     ]
    }
   ],
   "source": [
    "# tulis file helpers.py\n",
    "content = \"\"\"\n",
    "def tambah(a, b):\n",
    "    return a + b\n",
    "def kurang(a, b):\n",
    "    return a - b\n",
    "\"\"\"\n",
    "with open(\"helpers.py\", \"w\") as f:\n",
    "    f.write(content)\n",
    "print(\"helpers.py dibuat.\")"
   ]
  },
  {
   "cell_type": "code",
   "execution_count": 4,
   "id": "93770170",
   "metadata": {},
   "outputs": [
    {
     "name": "stdout",
     "output_type": "stream",
     "text": [
      "5 + 3 = 8\n",
      "5 - 3 = 2\n"
     ]
    }
   ],
   "source": [
    "# impor dan gunakan\n",
    "from helpers import tambah, kurang\n",
    "\n",
    "print(\"5 + 3 =\", tambah(5, 3))\n",
    "print(\"5 - 3 =\", kurang(5, 3))"
   ]
  }
 ],
 "metadata": {
  "kernelspec": {
   "display_name": "base",
   "language": "python",
   "name": "python3"
  },
  "language_info": {
   "codemirror_mode": {
    "name": "ipython",
    "version": 3
   },
   "file_extension": ".py",
   "mimetype": "text/x-python",
   "name": "python",
   "nbconvert_exporter": "python",
   "pygments_lexer": "ipython3",
   "version": "3.13.5"
  }
 },
 "nbformat": 4,
 "nbformat_minor": 5
}
