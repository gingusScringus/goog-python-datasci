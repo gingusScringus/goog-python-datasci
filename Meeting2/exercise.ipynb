{
 "cells": [
  {
   "cell_type": "code",
   "execution_count": 22,
   "id": "942bc1ec",
   "metadata": {},
   "outputs": [
    {
     "name": "stdout",
     "output_type": "stream",
     "text": [
      "score average: 77.7\n",
      "score max: 100\n",
      "score min: 53\n"
     ]
    }
   ],
   "source": [
    "import random\n",
    "\n",
    "score = []\n",
    "for i in range(10):\n",
    "    score.append(random.randint(50, 100))\n",
    "print(\"score average:\", sum(score) / len(score))\n",
    "print(\"score max:\", max(score))\n",
    "print(\"score min:\", min(score))"
   ]
  },
  {
   "cell_type": "code",
   "execution_count": 23,
   "id": "60f20f92",
   "metadata": {},
   "outputs": [
    {
     "name": "stdout",
     "output_type": "stream",
     "text": [
      "['Andi', 'Budi', 'Citra', 'Dedi', 'Eka', 'Fani']\n",
      "['Eka']\n"
     ]
    }
   ],
   "source": [
    "names = [\"Andi\", \"Budi\", \"Citra\", \"Dedi\", \"Eka\"]\n",
    "names.append(\"Fani\")\n",
    "print(names)\n",
    "names = [name for name in names if \"i\" not in name]\n",
    "print(names)"
   ]
  },
  {
   "cell_type": "code",
   "execution_count": 24,
   "id": "ee27a52a",
   "metadata": {},
   "outputs": [
    {
     "name": "stdout",
     "output_type": "stream",
     "text": [
      "[1, 4, 9, 16, 25, 36, 49, 64, 81, 100, 121, 144, 169, 196, 225, 256, 289, 324, 361, 400]\n"
     ]
    }
   ],
   "source": [
    "kuadrat = [x * x for x in range(1, 21)]\n",
    "print(kuadrat)"
   ]
  },
  {
   "cell_type": "code",
   "execution_count": 25,
   "id": "36e51147",
   "metadata": {},
   "outputs": [
    {
     "name": "stdout",
     "output_type": "stream",
     "text": [
      "5 3 8 6 2\n",
      "jumlah: 5\n",
      "total:  24\n"
     ]
    }
   ],
   "source": [
    "t = (5, 3, 8, 6, 2)\n",
    "w, x, y, z, u = t\n",
    "jumlah = 0\n",
    "print(w, x, y, z, u)\n",
    "#print(\"jumlah:\", len(t))\n",
    "for x in t:\n",
    "    jumlah += 1\n",
    "print(\"jumlah:\", jumlah)\n",
    "print(\"total: \", sum(t))"
   ]
  },
  {
   "cell_type": "code",
   "execution_count": null,
   "id": "6b1e4c7e",
   "metadata": {},
   "outputs": [
    {
     "name": "stdout",
     "output_type": "stream",
     "text": [
      "(2, 4, 6, 8, 10, 12, 14, 16, 18, 20)\n",
      "(2, 4, 6, 8, 10, 12, 14, 16, 18, 20)\n"
     ]
    }
   ],
   "source": [
    "genap = (2, 4, 6, 8, 10, 12, 14, 16, 18, 20)\n",
    "print(genap)\n",
    "genap_list = list(genap)\n",
    "print(genap_list)"
   ]
  },
  {
   "cell_type": "code",
   "execution_count": 27,
   "id": "d228cfc7",
   "metadata": {},
   "outputs": [
    {
     "name": "stdout",
     "output_type": "stream",
     "text": [
      "[(1, 2), (3, 4), (5, 6)]\n",
      "{1: 2, 3: 4, 5: 6}\n"
     ]
    }
   ],
   "source": [
    "pairs = [(1,2), (3,4), (5,6)]\n",
    "print(pairs)\n",
    "dict_pairs = dict(pairs)\n",
    "print(dict_pairs)"
   ]
  },
  {
   "cell_type": "code",
   "execution_count": null,
   "id": "7c8fe778",
   "metadata": {},
   "outputs": [],
   "source": []
  },
  {
   "cell_type": "code",
   "execution_count": null,
   "id": "9dd2fc0f",
   "metadata": {},
   "outputs": [],
   "source": []
  },
  {
   "cell_type": "code",
   "execution_count": null,
   "id": "c1fea649",
   "metadata": {},
   "outputs": [],
   "source": []
  },
  {
   "cell_type": "code",
   "execution_count": null,
   "id": "d6e0daf9",
   "metadata": {},
   "outputs": [],
   "source": []
  },
  {
   "cell_type": "code",
   "execution_count": null,
   "id": "1ced127a",
   "metadata": {},
   "outputs": [],
   "source": []
  }
 ],
 "metadata": {
  "kernelspec": {
   "display_name": "base",
   "language": "python",
   "name": "python3"
  },
  "language_info": {
   "codemirror_mode": {
    "name": "ipython",
    "version": 3
   },
   "file_extension": ".py",
   "mimetype": "text/x-python",
   "name": "python",
   "nbconvert_exporter": "python",
   "pygments_lexer": "ipython3",
   "version": "3.13.5"
  }
 },
 "nbformat": 4,
 "nbformat_minor": 5
}
