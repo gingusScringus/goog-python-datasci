{
 "cells": [
  {
   "cell_type": "code",
   "execution_count": 2,
   "id": "67b5c92d",
   "metadata": {},
   "outputs": [
    {
     "name": "stdout",
     "output_type": "stream",
     "text": [
      "Halo, Andi!\n"
     ]
    }
   ],
   "source": [
    "# 1, Fungsi sederhana\n",
    "def sapa(nama):\n",
    "    \"\"\"Mengembalikan sapaan kepada nama.\"\"\"\n",
    "    return f\"Halo, {nama}!\"\n",
    "print(sapa(\"Andi\"))"
   ]
  },
  {
   "cell_type": "code",
   "execution_count": 3,
   "id": "7e716f30",
   "metadata": {},
   "outputs": [
    {
     "name": "stdout",
     "output_type": "stream",
     "text": [
      "9 32\n"
     ]
    }
   ],
   "source": [
    "# 2, Default parameter\n",
    "def pangkat(x, y=2):\n",
    "    return x ** y\n",
    "\n",
    "print(pangkat(3), pangkat(2,5))"
   ]
  },
  {
   "cell_type": "code",
   "execution_count": 4,
   "id": "17be4366",
   "metadata": {},
   "outputs": [
    {
     "name": "stdout",
     "output_type": "stream",
     "text": [
      "{'min': 1, 'max': 9, 'sum': 18, 'count': 4}\n",
      "nama: Citra\n",
      "umur: 22\n"
     ]
    }
   ],
   "source": [
    "# 3, *args dan **kwargs\n",
    "def statistik(*args):\n",
    "    return {\n",
    "        \"min\": min(args),\n",
    "        \"max\": max(args),\n",
    "        \"sum\": sum(args),\n",
    "        \"count\": len(args)\n",
    "    }\n",
    "def cetak_info(**info):\n",
    "    for k, v in info.items():\n",
    "        print(f\"{k}: {v}\")\n",
    "\n",
    "print(statistik(1, 5, 3, 9))\n",
    "cetak_info(nama=\"Citra\", umur=22)"
   ]
  },
  {
   "cell_type": "code",
   "execution_count": 5,
   "id": "d9251219",
   "metadata": {},
   "outputs": [
    {
     "name": "stdout",
     "output_type": "stream",
     "text": [
      "[1, 4, 9, 16]\n",
      "[2, 4]\n"
     ]
    }
   ],
   "source": [
    "# 4, Lambda & map/filter\n",
    "kuadrat = lambda x: x ** 2\n",
    "data = [1, 2, 3, 4]\n",
    "print(list(map(kuadrat, data)))\n",
    "print(list(filter(lambda x: x % 2 == 0, data)))"
   ]
  }
 ],
 "metadata": {
  "kernelspec": {
   "display_name": "base",
   "language": "python",
   "name": "python3"
  },
  "language_info": {
   "codemirror_mode": {
    "name": "ipython",
    "version": 3
   },
   "file_extension": ".py",
   "mimetype": "text/x-python",
   "name": "python",
   "nbconvert_exporter": "python",
   "pygments_lexer": "ipython3",
   "version": "3.13.5"
  }
 },
 "nbformat": 4,
 "nbformat_minor": 5
}
