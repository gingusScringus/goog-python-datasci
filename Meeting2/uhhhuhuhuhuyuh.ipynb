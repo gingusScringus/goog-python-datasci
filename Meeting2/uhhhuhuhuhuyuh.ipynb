{
 "cells": [
  {
   "cell_type": "code",
   "execution_count": null,
   "id": "72c0ba8f",
   "metadata": {},
   "outputs": [],
   "source": [
    "# 1. enumerate & zip\n",
    "buah = [\"apel\", \"pisang\", \"jeruk\"]\n",
    "harga = [3000, 2000, 1500]\n",
    "for idx, (b, h) in enumerate(zip(buah, harga), start=1):\n",
    "    print(f\"{idx+1}. {b} = Rp{h}\")"
   ]
  },
  {
   "cell_type": "code",
   "execution_count": null,
   "id": "fc30ac64",
   "metadata": {},
   "outputs": [],
   "source": [
    "# 2. Konversi\n",
    "s = {1, 2, 3}\n",
    "print(\"set-->list:\", list(s))\n",
    "print(\"list-->tuple:\", tuple([4, 5, 6]))\n",
    "print(\"pairs-->dict:\", dict(zip([\"a\",\"b\"], [1, 2])))"
   ]
  },
  {
   "cell_type": "code",
   "execution_count": null,
   "id": "aad310a4",
   "metadata": {},
   "outputs": [],
   "source": [
    "# 3, Slicing & comprehension lanjutan\n",
    "matrix = [\n",
    "    [1, 2, 3],\n",
    "    [4, 5, 6],\n",
    "    [7, 8, 9]\n",
    "]\n",
    "col2 = [row[1] for row in matrix]\n",
    "print(\"Kolom ke-2:\", col2)"
   ]
  },
  {
   "cell_type": "code",
   "execution_count": null,
   "id": "eb352d2e",
   "metadata": {},
   "outputs": [],
   "source": [
    "# 4. Nested comprehension (transpose)\n"
   ]
  }
 ],
 "metadata": {
  "language_info": {
   "name": "python"
  }
 },
 "nbformat": 4,
 "nbformat_minor": 5
}
