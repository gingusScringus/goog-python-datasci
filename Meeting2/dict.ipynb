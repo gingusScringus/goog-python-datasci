{
 "cells": [
  {
   "cell_type": "code",
   "execution_count": 13,
   "id": "e279397d",
   "metadata": {},
   "outputs": [
    {
     "name": "stdout",
     "output_type": "stream",
     "text": [
      "{'nim': 'A123', 'nama': 'Siti', 'nilai': [80, 90, 85]}\n"
     ]
    }
   ],
   "source": [
    "# 1. Membuat dict\n",
    "mahasiswa = { \n",
    "    \"nim\": \"A123\",\n",
    "    \"nama\": \"Siti\",\n",
    "    \"nilai\": [80, 90, 85]\n",
    "}\n",
    "print(mahasiswa)"
   ]
  },
  {
   "cell_type": "code",
   "execution_count": 14,
   "id": "b37fae4f",
   "metadata": {},
   "outputs": [
    {
     "name": "stdout",
     "output_type": "stream",
     "text": [
      "Budi\n",
      "{'nama': 'Budi', 'nilai': [70, 75, 88], 'usia': 21}\n"
     ]
    }
   ],
   "source": [
    "# 2, Akses & update\n",
    "mahasiswa = {\"nama\": \"Budi\", \"nilai\": [70, 75]}\n",
    "print(mahasiswa[\"nama\"])\n",
    "mahasiswa[\"usia\"] = 21\n",
    "mahasiswa[\"nilai\"].append(88)\n",
    "print(mahasiswa)"
   ]
  },
  {
   "cell_type": "code",
   "execution_count": 15,
   "id": "4055c115",
   "metadata": {},
   "outputs": [
    {
     "name": "stdout",
     "output_type": "stream",
     "text": [
      "{'a': 1} 3\n"
     ]
    }
   ],
   "source": [
    "# 3. Hapus entri\n",
    "m = {\"a\": 1, \"b\": 2, \"c\": 3}\n",
    "del m[\"b\"]\n",
    "x = m.pop(\"c\")\n",
    "print(m, x)"
   ]
  },
  {
   "cell_type": "code",
   "execution_count": 16,
   "id": "64dd0152",
   "metadata": {},
   "outputs": [
    {
     "name": "stdout",
     "output_type": "stream",
     "text": [
      "x = 10\n",
      "y = 20\n"
     ]
    }
   ],
   "source": [
    "# 4. Iterasi\n",
    "m = {\"x\": 10, \"y\": 20}\n",
    "for k, v in m.items():\n",
    "    print(k, \"=\", v)"
   ]
  },
  {
   "cell_type": "code",
   "execution_count": 17,
   "id": "968ae56f",
   "metadata": {},
   "outputs": [
    {
     "name": "stdout",
     "output_type": "stream",
     "text": [
      "{1: 1, 2: 4, 3: 9, 4: 16, 5: 25}\n"
     ]
    }
   ],
   "source": [
    "# 5. Dict comprehension\n",
    "kuadrat = {x: x**2 for x in range(1, 6)}\n",
    "print(kuadrat)"
   ]
  },
  {
   "cell_type": "code",
   "execution_count": 18,
   "id": "380f715e",
   "metadata": {},
   "outputs": [
    {
     "name": "stdout",
     "output_type": "stream",
     "text": [
      "101\n"
     ]
    }
   ],
   "source": [
    "# 6. Nested dict\n",
    "kelas = {\n",
    "    \"A\": {\"siswa\": 30, \"ruang\": \"101\"},\n",
    "    \"B\": {\"siswa\": 25, \"ruang\": \"102\"},\n",
    "}\n",
    "print(kelas[\"A\"][\"ruang\"])"
   ]
  }
 ],
 "metadata": {
  "kernelspec": {
   "display_name": "base",
   "language": "python",
   "name": "python3"
  },
  "language_info": {
   "codemirror_mode": {
    "name": "ipython",
    "version": 3
   },
   "file_extension": ".py",
   "mimetype": "text/x-python",
   "name": "python",
   "nbconvert_exporter": "python",
   "pygments_lexer": "ipython3",
   "version": "3.13.5"
  }
 },
 "nbformat": 4,
 "nbformat_minor": 5
}
