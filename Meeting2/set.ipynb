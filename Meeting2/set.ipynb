{
 "cells": [
  {
   "cell_type": "code",
   "execution_count": 1,
   "id": "5540ec2f",
   "metadata": {},
   "outputs": [
    {
     "name": "stdout",
     "output_type": "stream",
     "text": [
      "{1, 2, 3} {3, 4, 5}\n"
     ]
    }
   ],
   "source": [
    "# 1. Membuat set\n",
    "A = {1, 2, 3}\n",
    "B = set([3, 4, 5])\n",
    "print(A, B)"
   ]
  },
  {
   "cell_type": "code",
   "execution_count": 2,
   "id": "9c650c13",
   "metadata": {},
   "outputs": [
    {
     "name": "stdout",
     "output_type": "stream",
     "text": [
      "{1, 2, 3} {3}\n"
     ]
    }
   ],
   "source": [
    "# 2. Tambah & hapus\n",
    "A = {1, 2}\n",
    "A.add(3)\n",
    "B = {3, 4}\n",
    "B.remove(4)\n",
    "print(A, B)"
   ]
  },
  {
   "cell_type": "code",
   "execution_count": 3,
   "id": "baac8695",
   "metadata": {},
   "outputs": [
    {
     "name": "stdout",
     "output_type": "stream",
     "text": [
      "union:  {1, 2, 3, 4}\n",
      "intersection:  {2, 3}\n",
      "difference:  {1}\n",
      "symmetric difference:  {1, 4}\n"
     ]
    }
   ],
   "source": [
    "# 3. Operasi himpunan\n",
    "A = {1, 2, 3}\n",
    "B = {2, 3, 4}\n",
    "print(\"union: \", A | B)\n",
    "print(\"intersection: \", A & B)\n",
    "print(\"difference: \", A - B)\n",
    "print(\"symmetric difference: \", A ^ B)"
   ]
  },
  {
   "cell_type": "code",
   "execution_count": 4,
   "id": "d7c4123f",
   "metadata": {},
   "outputs": [
    {
     "name": "stdout",
     "output_type": "stream",
     "text": [
      "{1, 4, 9, 16, 25}\n"
     ]
    }
   ],
   "source": [
    "# 4. Set comprehension\n",
    "kuadrat_set = {x**2 for x in range(1, 6)}\n",
    "print(kuadrat_set)"
   ]
  }
 ],
 "metadata": {
  "kernelspec": {
   "display_name": "base",
   "language": "python",
   "name": "python3"
  },
  "language_info": {
   "codemirror_mode": {
    "name": "ipython",
    "version": 3
   },
   "file_extension": ".py",
   "mimetype": "text/x-python",
   "name": "python",
   "nbconvert_exporter": "python",
   "pygments_lexer": "ipython3",
   "version": "3.13.5"
  }
 },
 "nbformat": 4,
 "nbformat_minor": 5
}
