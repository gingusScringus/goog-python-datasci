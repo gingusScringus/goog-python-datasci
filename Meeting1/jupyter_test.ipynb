{
 "cells": [
  {
   "cell_type": "code",
   "execution_count": 127,
   "id": "8ec1f6dd",
   "metadata": {},
   "outputs": [
    {
     "name": "stdout",
     "output_type": "stream",
     "text": [
      "14 2.5 10000\n"
     ]
    }
   ],
   "source": [
    "umur = 21\n",
    "nama = \"dewi\"\n",
    "tinggi = 1.68\n",
    "is_mahasiswa = True\n",
    "\n",
    "#arikmatika\n",
    "a = 10;b = 4\n",
    "print(a + b, a / b, a ** b)"
   ]
  },
  {
   "cell_type": "code",
   "execution_count": 128,
   "id": "e2bc1634",
   "metadata": {},
   "outputs": [
    {
     "name": "stdout",
     "output_type": "stream",
     "text": [
      "Jakarta Selatan\n"
     ]
    }
   ],
   "source": [
    "#arikmatik\n",
    "pendapatan = 15_000_000\n",
    "pajak = 0.11\n",
    "net_income = pendapatan * (1-pajak)\n",
    "\n",
    "#strink manipulasi\n",
    "nama_kota = \"jakarta selatan\"\n",
    "print(nama_kota.title()) #title for converting the variable to capitals like: \"jakarta selatan\" --> \"Jakarta Selatan\""
   ]
  },
  {
   "cell_type": "code",
   "execution_count": 129,
   "id": "3f32faf0",
   "metadata": {},
   "outputs": [
    {
     "name": "stdout",
     "output_type": "stream",
     "text": [
      "True False\n",
      "False True\n"
     ]
    }
   ],
   "source": [
    "x = 7; y = 5\n",
    "print(x > y, x == y)\n",
    "\n",
    "a = True; b = False\n",
    "print(a and b, a or b)"
   ]
  },
  {
   "cell_type": "code",
   "execution_count": 130,
   "id": "5faba3f3",
   "metadata": {},
   "outputs": [
    {
     "name": "stdout",
     "output_type": "stream",
     "text": [
      "Halo, dewi\n"
     ]
    }
   ],
   "source": [
    "salam = \"Halo, \" + nama\n",
    "\n",
    "print(salam)"
   ]
  },
  {
   "cell_type": "code",
   "execution_count": 131,
   "id": "67f4e8c6",
   "metadata": {},
   "outputs": [
    {
     "name": "stdout",
     "output_type": "stream",
     "text": [
      "Lulus!\n"
     ]
    }
   ],
   "source": [
    "nilai = 80\n",
    "if nilai >= 75:\n",
    "    print(\"Lulus!\")\n",
    "else:\n",
    "    print(\"Tidak Lulus...\")"
   ]
  },
  {
   "cell_type": "code",
   "execution_count": 132,
   "id": "7f014de9",
   "metadata": {},
   "outputs": [
    {
     "name": "stdout",
     "output_type": "stream",
     "text": [
      "B\n"
     ]
    }
   ],
   "source": [
    "nilai = 83\n",
    "if nilai >= 90:\n",
    "    print(\"A\")\n",
    "elif nilai >= 80:\n",
    "    print(\"B\")\n",
    "else:\n",
    "    print(\"C atau D\")"
   ]
  },
  {
   "cell_type": "code",
   "execution_count": 133,
   "id": "c0b6a073",
   "metadata": {},
   "outputs": [],
   "source": [
    "if nilai is None:\n",
    "    nilai = rata_rata_kolom\n",
    "else:\n",
    "    nilai = float(nilai)"
   ]
  },
  {
   "cell_type": "code",
   "execution_count": 134,
   "id": "a76afe24",
   "metadata": {},
   "outputs": [
    {
     "name": "stdout",
     "output_type": "stream",
     "text": [
      "High temp alert!\n"
     ]
    }
   ],
   "source": [
    "temperature = 30\n",
    "if temperature > 25:\n",
    "    print(\"High temp alert!\")\n",
    "elif 18 <= temperature <= 25:\n",
    "    print(\"Optimal range\")\n",
    "else:\n",
    "    print(\"Cold condition\")"
   ]
  },
  {
   "cell_type": "code",
   "execution_count": 135,
   "id": "3fb7bdef",
   "metadata": {},
   "outputs": [
    {
     "name": "stdout",
     "output_type": "stream",
     "text": [
      "Iterasi ke: 0\n",
      "Iterasi ke: 1\n",
      "Iterasi ke: 2\n",
      "Iterasi ke: 3\n",
      "Iterasi ke: 4\n"
     ]
    }
   ],
   "source": [
    "for i in range(5):\n",
    "    print(\"Iterasi ke:\", i)"
   ]
  },
  {
   "cell_type": "code",
   "execution_count": 136,
   "id": "d09b9f69",
   "metadata": {},
   "outputs": [
    {
     "name": "stdout",
     "output_type": "stream",
     "text": [
      "Jual!\n"
     ]
    }
   ],
   "source": [
    "harga_saham = [1250, 1300, 1190, 1380]\n",
    "for harga in harga_saham:\n",
    "    if harga > 1300:\n",
    "        print(\"Jual!\") #terjuan"
   ]
  },
  {
   "cell_type": "code",
   "execution_count": 137,
   "id": "d3eb6024",
   "metadata": {},
   "outputs": [
    {
     "name": "stdout",
     "output_type": "stream",
     "text": [
      "3\n",
      "2\n",
      "1\n"
     ]
    }
   ],
   "source": [
    "hitung = 3\n",
    "while hitung > 0:\n",
    "    print(hitung)\n",
    "    hitung -= 1"
   ]
  },
  {
   "cell_type": "code",
   "execution_count": 138,
   "id": "583b9673",
   "metadata": {},
   "outputs": [],
   "source": [
    "while True:\n",
    "    usia = input(\"Masukkan usia: \")\n",
    "    if usia.isdigit():\n",
    "        break # keluar loop jika input valit"
   ]
  },
  {
   "cell_type": "code",
   "execution_count": 139,
   "id": "f46ef81a",
   "metadata": {},
   "outputs": [
    {
     "name": "stdout",
     "output_type": "stream",
     "text": [
      "1\n",
      "3\n"
     ]
    }
   ],
   "source": [
    "# brek and continuye\n",
    "\n",
    "for i in range(10):\n",
    "    if i == 5:\n",
    "        break\n",
    "    if i % 2 == 0:\n",
    "        continue\n",
    "    print(i)"
   ]
  },
  {
   "cell_type": "code",
   "execution_count": null,
   "id": "fa9c7cf2",
   "metadata": {},
   "outputs": [],
   "source": []
  },
  {
   "cell_type": "code",
   "execution_count": null,
   "id": "dcd6a26b",
   "metadata": {},
   "outputs": [],
   "source": []
  }
 ],
 "metadata": {
  "kernelspec": {
   "display_name": "base",
   "language": "python",
   "name": "python3"
  },
  "language_info": {
   "codemirror_mode": {
    "name": "ipython",
    "version": 3
   },
   "file_extension": ".py",
   "mimetype": "text/x-python",
   "name": "python",
   "nbconvert_exporter": "python",
   "pygments_lexer": "ipython3",
   "version": "3.13.5"
  }
 },
 "nbformat": 4,
 "nbformat_minor": 5
}
