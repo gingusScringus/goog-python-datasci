{
 "cells": [
  {
   "cell_type": "code",
   "execution_count": null,
   "id": "8a5849cf",
   "metadata": {},
   "outputs": [
    {
     "name": "stdout",
     "output_type": "stream",
     "text": [
      "122.0 F\n"
     ]
    }
   ],
   "source": [
    "c = float(input(\"enter temp: \"))\n",
    "\n",
    "\n",
    "if c < -273:\n",
    "    print(\"Absolute zero!!!\")\n",
    "else:\n",
    "    f = (c * 9/5) + 32\n",
    "    print(f, \"F\")"
   ]
  },
  {
   "cell_type": "code",
   "execution_count": 15,
   "id": "10e5c27a",
   "metadata": {},
   "outputs": [
    {
     "name": "stdout",
     "output_type": "stream",
     "text": [
      "BUKAN PRIMA\n",
      "PRIMA\n",
      "BUKAN PRIMA\n",
      "PRIMA\n",
      "BUKAN PRIMA\n"
     ]
    }
   ],
   "source": [
    "for i in range(5):\n",
    "    bilangan = int(input(\"bilangan: \"))\n",
    "    if bilangan % 2 == 0:\n",
    "        print(\"PRIMA\")\n",
    "    else:\n",
    "        print(\"BUKAN PRIMA\")"
   ]
  },
  {
   "cell_type": "code",
   "execution_count": null,
   "id": "b958f9ae",
   "metadata": {},
   "outputs": [
    {
     "name": "stdout",
     "output_type": "stream",
     "text": [
      "BMI:  6.0\n",
      "Underweight\n"
     ]
    }
   ],
   "source": [
    "berat = float(input(\"berat (kg): \"))\n",
    "tinggi = float(input(\"tinggi (m): \"))\n",
    "\n",
    "bmi = berat / (tinggi ** 2)\n",
    "print(\"BMI: \", bmi)\n",
    "\n",
    "if bmi < 18.5:\n",
    "    print(\"Underweight\")\n",
    "elif bmi >= 18.5 | bmi < 25:\n",
    "    print(\"Normal\")\n",
    "elif bmi >= 25:\n",
    "    print(\"Overweight\")\n",
    "else:\n",
    "    print(\"Diabetes\")\n"
   ]
  }
 ],
 "metadata": {
  "kernelspec": {
   "display_name": "base",
   "language": "python",
   "name": "python3"
  },
  "language_info": {
   "codemirror_mode": {
    "name": "ipython",
    "version": 3
   },
   "file_extension": ".py",
   "mimetype": "text/x-python",
   "name": "python",
   "nbconvert_exporter": "python",
   "pygments_lexer": "ipython3",
   "version": "3.13.5"
  }
 },
 "nbformat": 4,
 "nbformat_minor": 5
}
